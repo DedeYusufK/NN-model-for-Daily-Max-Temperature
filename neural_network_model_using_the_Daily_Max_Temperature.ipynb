{
  "nbformat": 4,
  "nbformat_minor": 0,
  "metadata": {
    "colab": {
      "provenance": [],
      "collapsed_sections": [
        "fTxA3qUPuC-6",
        "vTpiMTSCuIVq",
        "C8jHo6H0uKjt"
      ],
      "include_colab_link": true
    },
    "kernelspec": {
      "name": "python3",
      "display_name": "Python 3"
    },
    "language_info": {
      "name": "python"
    }
  },
  "cells": [
    {
      "cell_type": "markdown",
      "metadata": {
        "id": "view-in-github",
        "colab_type": "text"
      },
      "source": [
        "<a href=\"https://colab.research.google.com/github/DedeYusufK/NN-model-for-Daily-Max-Temperature/blob/main/neural_network_model_using_the_Daily_Max_Temperature.ipynb\" target=\"_parent\"><img src=\"https://colab.research.google.com/assets/colab-badge.svg\" alt=\"Open In Colab\"/></a>"
      ]
    },
    {
      "cell_type": "code",
      "source": [
        "# ============================================================================================\n",
        "\n",
        "# Build and train a neural network model using the Daily Max Temperature.csv dataset.\n",
        "# Use MAE as the metrics of your neural network model.\n",
        "# We provided code for normalizing the data. Please do not change the code.\n",
        "# Do not use lambda layers in your model.\n",
        "#\n",
        "# The dataset used in this problem is downloaded from https://github.com/jbrownlee/Datasets\n",
        "#\n",
        "# Desired MAE < 0.2 on the normalized dataset.\n",
        "# ============================================================================================\n",
        "\n",
        "import tensorflow as tf\n",
        "import numpy as np\n",
        "import matplotlib.pyplot as plt\n",
        "import csv\n",
        "import urllib"
      ],
      "metadata": {
        "id": "B4dQ5GiXEQNq"
      },
      "execution_count": 1,
      "outputs": []
    },
    {
      "cell_type": "code",
      "source": [
        "class myCallback(tf.keras.callbacks.Callback):\n",
        "        # Define the correct function signature for on_epoch_end\n",
        "        def on_epoch_end(self, epoch, logs={}):\n",
        "            if logs.get('loss') < 0.08:\n",
        "                print(\"\\nReached desired calbacks!\")\n",
        "\n",
        "                # Stop training once the above condition is met\n",
        "                self.model.stop_training = True\n",
        "\n",
        "callbacks = myCallback()"
      ],
      "metadata": {
        "id": "l4FUa8YLKMov"
      },
      "execution_count": 2,
      "outputs": []
    },
    {
      "cell_type": "code",
      "source": [
        "def windowed_dataset(series, window_size, batch_size, shuffle_buffer):\n",
        "    series = tf.expand_dims(series, axis=-1)\n",
        "    ds = tf.data.Dataset.from_tensor_slices(series)\n",
        "    ds = ds.window(window_size + 1, shift=1, drop_remainder=True)\n",
        "    ds = ds.flat_map(lambda w: w.batch(window_size + 1))\n",
        "    ds = ds.shuffle(shuffle_buffer)\n",
        "    ds = ds.map(lambda w: (w[:-1], w[1:]))\n",
        "    return ds.batch(batch_size).prefetch(1)"
      ],
      "metadata": {
        "id": "kwG3azfaETDu"
      },
      "execution_count": 3,
      "outputs": []
    },
    {
      "cell_type": "code",
      "source": [
        "def solution_B5():\n",
        "    data_url = 'https://raw.githubusercontent.com/jbrownlee/Datasets/master/daily-max-temperatures.csv'\n",
        "    urllib.request.urlretrieve(data_url, 'daily-max-temperatures.csv')\n",
        "\n",
        "    time_step = []\n",
        "    temps = []\n",
        "\n",
        "    with open('daily-max-temperatures.csv') as csvfile:\n",
        "        reader = csv.reader(csvfile, delimiter=',')\n",
        "        next(reader)\n",
        "        step = 0\n",
        "        for row in reader:\n",
        "            temps.append(float(row[1]))\n",
        "            time_step.append(row[0])\n",
        "            step=step + 1\n",
        "\n",
        "    # series=# YOUR CODE HERE\n",
        "    series = np.array(temps).astype(float)\n",
        "\n",
        "    # Normalization Function. DO NOT CHANGE THIS CODE\n",
        "    min=np.min(series)\n",
        "    max=np.max(series)\n",
        "    series -= min\n",
        "    series /= max\n",
        "    time=np.array(time_step)\n",
        "\n",
        "    # DO NOT CHANGE THIS CODE\n",
        "    split_time=2500\n",
        "\n",
        "    time_train=  time[:split_time]\n",
        "    x_train=  series[:split_time]\n",
        "    time_valid=  time[split_time:]\n",
        "    x_valid=  series[split_time:]\n",
        "\n",
        "    # DO NOT CHANGE THIS CODE\n",
        "    window_size=64\n",
        "    batch_size=256\n",
        "    shuffle_buffer_size=1000\n",
        "\n",
        "    train_set=windowed_dataset(\n",
        "        x_train, window_size, batch_size, shuffle_buffer_size)\n",
        "    print(train_set)\n",
        "    print(x_train.shape)\n",
        "\n",
        "    model=tf.keras.models.Sequential([\n",
        "         tf.keras.layers.Conv1D(filters=60, kernel_size=5,\n",
        "                               strides=1, padding=\"causal\",\n",
        "                               activation=\"relu\",\n",
        "                               input_shape=[None, 1]),\n",
        "        tf.keras.layers.LSTM(60, return_sequences=True),\n",
        "        tf.keras.layers.LSTM(60, return_sequences=True),\n",
        "        tf.keras.layers.Dense(30, activation=\"relu\"),\n",
        "        tf.keras.layers.Dense(10, activation=\"relu\"),\n",
        "        tf.keras.layers.Dense(1),\n",
        "    ])\n",
        "\n",
        "    model.compile(loss='mae', optimizer='adam', metrics='mae')\n",
        "    model.fit(train_set, batch_size=256, epochs=100)\n",
        "\n",
        "    # YOUR CODE HERE\n",
        "    return model"
      ],
      "metadata": {
        "id": "Bi0W2t1wuVyg"
      },
      "execution_count": 4,
      "outputs": []
    },
    {
      "cell_type": "code",
      "source": [
        "# The code below is to save your model as a .h5 file.\n",
        "# It will be saved automatically in your Submission folder.\n",
        "if __name__ == '__main__':\n",
        "    # DO NOT CHANGE THIS CODE\n",
        "    model=solution_B5()\n",
        "    model.save(\"model_B5.h5\")"
      ],
      "metadata": {
        "id": "pERR9f5WEXpq",
        "colab": {
          "base_uri": "https://localhost:8080/"
        },
        "outputId": "88915d32-7d6b-421a-92c9-45976dba810d"
      },
      "execution_count": null,
      "outputs": [
        {
          "output_type": "stream",
          "name": "stdout",
          "text": [
            "<_PrefetchDataset element_spec=(TensorSpec(shape=(None, None, 1), dtype=tf.float64, name=None), TensorSpec(shape=(None, None, 1), dtype=tf.float64, name=None))>\n",
            "(2500,)\n",
            "Epoch 1/100\n",
            "10/10 [==============================] - 19s 549ms/step - loss: 0.1737 - mae: 0.1737\n",
            "Epoch 2/100\n",
            "10/10 [==============================] - 5s 435ms/step - loss: 0.0995 - mae: 0.0995\n",
            "Epoch 3/100\n",
            "10/10 [==============================] - 3s 282ms/step - loss: 0.0930 - mae: 0.0930\n",
            "Epoch 4/100\n",
            "10/10 [==============================] - 3s 314ms/step - loss: 0.0904 - mae: 0.0904\n",
            "Epoch 5/100\n",
            "10/10 [==============================] - 4s 298ms/step - loss: 0.0866 - mae: 0.0866\n",
            "Epoch 6/100\n",
            "10/10 [==============================] - 3s 287ms/step - loss: 0.0841 - mae: 0.0841\n",
            "Epoch 7/100\n",
            "10/10 [==============================] - 4s 345ms/step - loss: 0.0823 - mae: 0.0823\n",
            "Epoch 8/100\n",
            "10/10 [==============================] - 3s 279ms/step - loss: 0.0810 - mae: 0.0810\n",
            "Epoch 9/100\n",
            "10/10 [==============================] - 3s 292ms/step - loss: 0.0798 - mae: 0.0798\n",
            "Epoch 10/100\n",
            "10/10 [==============================] - 4s 317ms/step - loss: 0.0789 - mae: 0.0789\n",
            "Epoch 11/100\n",
            "10/10 [==============================] - 3s 308ms/step - loss: 0.0781 - mae: 0.0781\n",
            "Epoch 12/100\n",
            "10/10 [==============================] - 4s 307ms/step - loss: 0.0775 - mae: 0.0775\n",
            "Epoch 13/100\n",
            "10/10 [==============================] - 5s 450ms/step - loss: 0.0769 - mae: 0.0769\n",
            "Epoch 14/100\n",
            "10/10 [==============================] - 3s 309ms/step - loss: 0.0763 - mae: 0.0763\n",
            "Epoch 15/100\n",
            "10/10 [==============================] - 4s 313ms/step - loss: 0.0757 - mae: 0.0757\n",
            "Epoch 16/100\n",
            "10/10 [==============================] - 5s 442ms/step - loss: 0.0751 - mae: 0.0751\n",
            "Epoch 17/100\n",
            "10/10 [==============================] - 3s 292ms/step - loss: 0.0743 - mae: 0.0743\n",
            "Epoch 18/100\n",
            "10/10 [==============================] - 4s 299ms/step - loss: 0.0735 - mae: 0.0735\n",
            "Epoch 19/100\n",
            "10/10 [==============================] - 5s 459ms/step - loss: 0.0728 - mae: 0.0728\n",
            "Epoch 20/100\n",
            "10/10 [==============================] - 3s 286ms/step - loss: 0.0720 - mae: 0.0720\n",
            "Epoch 21/100\n",
            "10/10 [==============================] - 3s 302ms/step - loss: 0.0710 - mae: 0.0710\n",
            "Epoch 22/100\n",
            "10/10 [==============================] - 5s 499ms/step - loss: 0.0703 - mae: 0.0703\n",
            "Epoch 23/100\n",
            "10/10 [==============================] - 4s 322ms/step - loss: 0.0688 - mae: 0.0688\n",
            "Epoch 24/100\n",
            "10/10 [==============================] - 5s 370ms/step - loss: 0.0679 - mae: 0.0679\n",
            "Epoch 25/100\n",
            "10/10 [==============================] - 3s 299ms/step - loss: 0.0674 - mae: 0.0674\n",
            "Epoch 26/100\n",
            "10/10 [==============================] - 5s 468ms/step - loss: 0.0673 - mae: 0.0673\n",
            "Epoch 27/100\n",
            "10/10 [==============================] - 3s 288ms/step - loss: 0.0666 - mae: 0.0666\n",
            "Epoch 28/100\n",
            "10/10 [==============================] - 4s 355ms/step - loss: 0.0664 - mae: 0.0664\n",
            "Epoch 29/100\n",
            "10/10 [==============================] - 5s 431ms/step - loss: 0.0666 - mae: 0.0666\n",
            "Epoch 30/100\n",
            "10/10 [==============================] - 3s 298ms/step - loss: 0.0669 - mae: 0.0669\n",
            "Epoch 31/100\n",
            "10/10 [==============================] - 3s 308ms/step - loss: 0.0665 - mae: 0.0665\n",
            "Epoch 32/100\n",
            "10/10 [==============================] - 4s 299ms/step - loss: 0.0661 - mae: 0.0661\n",
            "Epoch 33/100\n",
            "10/10 [==============================] - 3s 309ms/step - loss: 0.0658 - mae: 0.0658\n",
            "Epoch 34/100\n",
            "10/10 [==============================] - 5s 460ms/step - loss: 0.0658 - mae: 0.0658\n",
            "Epoch 35/100\n",
            "10/10 [==============================] - 3s 311ms/step - loss: 0.0657 - mae: 0.0657\n",
            "Epoch 36/100\n",
            "10/10 [==============================] - 3s 289ms/step - loss: 0.0656 - mae: 0.0656\n",
            "Epoch 37/100\n",
            "10/10 [==============================] - 5s 424ms/step - loss: 0.0657 - mae: 0.0657\n",
            "Epoch 38/100\n",
            "10/10 [==============================] - 3s 308ms/step - loss: 0.0656 - mae: 0.0656\n",
            "Epoch 39/100\n",
            "10/10 [==============================] - 3s 296ms/step - loss: 0.0655 - mae: 0.0655\n",
            "Epoch 40/100\n",
            "10/10 [==============================] - 4s 331ms/step - loss: 0.0655 - mae: 0.0655\n",
            "Epoch 41/100\n",
            "10/10 [==============================] - 4s 309ms/step - loss: 0.0656 - mae: 0.0656\n",
            "Epoch 42/100\n"
          ]
        }
      ]
    }
  ]
}